{
  "cells": [
    {
      "cell_type": "markdown",
      "metadata": {
        "id": "view-in-github",
        "colab_type": "text"
      },
      "source": [
        "<a href=\"https://colab.research.google.com/github/elka97/GB_PyTorch/blob/main/HW_03.ipynb\" target=\"_parent\"><img src=\"https://colab.research.google.com/assets/colab-badge.svg\" alt=\"Open In Colab\"/></a>"
      ]
    },
    {
      "cell_type": "markdown",
      "source": [
        "# hw"
      ],
      "metadata": {
        "id": "KijogwUHNvr6"
      }
    },
    {
      "cell_type": "markdown",
      "source": [
        "Будем практиковаться на датасете недвижимости (sklearn.datasets.fetch_california_housing)\n",
        "\n",
        "Ваша задача:\n",
        "\n",
        "1. Создать Dataset для загрузки данных\n",
        "\n",
        "2. Обернуть его в Dataloader\n",
        "\n",
        "3. Написать архитектуру сети, которая предсказывает стоимость недвижимости. Сеть должна включать BatchNorm слои и Dropout (или НЕ включать, но нужно обосновать)\n",
        "\n",
        "4. Сравните сходимость Adam, RMSProp и SGD, сделайте вывод по качеству работы модели\n",
        "\n",
        "train-test разделение нужно сделать с помощью sklearn random_state=13, test_size = 0.25"
      ],
      "metadata": {
        "id": "RPHmBGX1r6Yq"
      }
    },
    {
      "cell_type": "code",
      "source": [
        "# !pip install torch"
      ],
      "metadata": {
        "id": "4NiU1NJJnits"
      },
      "execution_count": null,
      "outputs": []
    },
    {
      "cell_type": "markdown",
      "source": [
        "# imports"
      ],
      "metadata": {
        "id": "h2AaUgPmUUzz"
      }
    },
    {
      "cell_type": "code",
      "source": [
        "import numpy as np\n",
        "import pandas as pd\n",
        "import torch as torch\n",
        "from torchvision import transforms\n",
        "from sklearn.datasets import fetch_california_housing\n",
        "from sklearn.model_selection import train_test_split\n",
        "from sklearn.preprocessing import StandardScaler\n",
        "import matplotlib.pyplot as plt\n",
        "\n",
        "import torch.nn.functional as F\n",
        "import torch.nn as nn\n",
        "from tqdm import tqdm\n",
        "import datetime"
      ],
      "metadata": {
        "id": "loNxyh-pUWM6"
      },
      "execution_count": 2,
      "outputs": []
    },
    {
      "cell_type": "markdown",
      "source": [
        "# load dataset"
      ],
      "metadata": {
        "id": "qqMvX5aSpI0V"
      }
    },
    {
      "cell_type": "code",
      "source": [
        "from sklearn.datasets import fetch_california_housing\n",
        "X, y = fetch_california_housing(return_X_y=True, as_frame=True)\n",
        "X.head(3)"
      ],
      "metadata": {
        "colab": {
          "base_uri": "https://localhost:8080/",
          "height": 143
        },
        "id": "NJ2R0_iupz3b",
        "outputId": "1e4fd376-a87b-40e8-b0bc-5974fddf0f4d"
      },
      "execution_count": 3,
      "outputs": [
        {
          "output_type": "execute_result",
          "data": {
            "text/plain": [
              "   MedInc  HouseAge  AveRooms  AveBedrms  Population  AveOccup  Latitude  \\\n",
              "0  8.3252      41.0  6.984127   1.023810       322.0  2.555556     37.88   \n",
              "1  8.3014      21.0  6.238137   0.971880      2401.0  2.109842     37.86   \n",
              "2  7.2574      52.0  8.288136   1.073446       496.0  2.802260     37.85   \n",
              "\n",
              "   Longitude  \n",
              "0    -122.23  \n",
              "1    -122.22  \n",
              "2    -122.24  "
            ],
            "text/html": [
              "\n",
              "  <div id=\"df-9d9e5308-d6e6-470a-9133-8b657997689b\">\n",
              "    <div class=\"colab-df-container\">\n",
              "      <div>\n",
              "<style scoped>\n",
              "    .dataframe tbody tr th:only-of-type {\n",
              "        vertical-align: middle;\n",
              "    }\n",
              "\n",
              "    .dataframe tbody tr th {\n",
              "        vertical-align: top;\n",
              "    }\n",
              "\n",
              "    .dataframe thead th {\n",
              "        text-align: right;\n",
              "    }\n",
              "</style>\n",
              "<table border=\"1\" class=\"dataframe\">\n",
              "  <thead>\n",
              "    <tr style=\"text-align: right;\">\n",
              "      <th></th>\n",
              "      <th>MedInc</th>\n",
              "      <th>HouseAge</th>\n",
              "      <th>AveRooms</th>\n",
              "      <th>AveBedrms</th>\n",
              "      <th>Population</th>\n",
              "      <th>AveOccup</th>\n",
              "      <th>Latitude</th>\n",
              "      <th>Longitude</th>\n",
              "    </tr>\n",
              "  </thead>\n",
              "  <tbody>\n",
              "    <tr>\n",
              "      <th>0</th>\n",
              "      <td>8.3252</td>\n",
              "      <td>41.0</td>\n",
              "      <td>6.984127</td>\n",
              "      <td>1.023810</td>\n",
              "      <td>322.0</td>\n",
              "      <td>2.555556</td>\n",
              "      <td>37.88</td>\n",
              "      <td>-122.23</td>\n",
              "    </tr>\n",
              "    <tr>\n",
              "      <th>1</th>\n",
              "      <td>8.3014</td>\n",
              "      <td>21.0</td>\n",
              "      <td>6.238137</td>\n",
              "      <td>0.971880</td>\n",
              "      <td>2401.0</td>\n",
              "      <td>2.109842</td>\n",
              "      <td>37.86</td>\n",
              "      <td>-122.22</td>\n",
              "    </tr>\n",
              "    <tr>\n",
              "      <th>2</th>\n",
              "      <td>7.2574</td>\n",
              "      <td>52.0</td>\n",
              "      <td>8.288136</td>\n",
              "      <td>1.073446</td>\n",
              "      <td>496.0</td>\n",
              "      <td>2.802260</td>\n",
              "      <td>37.85</td>\n",
              "      <td>-122.24</td>\n",
              "    </tr>\n",
              "  </tbody>\n",
              "</table>\n",
              "</div>\n",
              "      <button class=\"colab-df-convert\" onclick=\"convertToInteractive('df-9d9e5308-d6e6-470a-9133-8b657997689b')\"\n",
              "              title=\"Convert this dataframe to an interactive table.\"\n",
              "              style=\"display:none;\">\n",
              "        \n",
              "  <svg xmlns=\"http://www.w3.org/2000/svg\" height=\"24px\"viewBox=\"0 0 24 24\"\n",
              "       width=\"24px\">\n",
              "    <path d=\"M0 0h24v24H0V0z\" fill=\"none\"/>\n",
              "    <path d=\"M18.56 5.44l.94 2.06.94-2.06 2.06-.94-2.06-.94-.94-2.06-.94 2.06-2.06.94zm-11 1L8.5 8.5l.94-2.06 2.06-.94-2.06-.94L8.5 2.5l-.94 2.06-2.06.94zm10 10l.94 2.06.94-2.06 2.06-.94-2.06-.94-.94-2.06-.94 2.06-2.06.94z\"/><path d=\"M17.41 7.96l-1.37-1.37c-.4-.4-.92-.59-1.43-.59-.52 0-1.04.2-1.43.59L10.3 9.45l-7.72 7.72c-.78.78-.78 2.05 0 2.83L4 21.41c.39.39.9.59 1.41.59.51 0 1.02-.2 1.41-.59l7.78-7.78 2.81-2.81c.8-.78.8-2.07 0-2.86zM5.41 20L4 18.59l7.72-7.72 1.47 1.35L5.41 20z\"/>\n",
              "  </svg>\n",
              "      </button>\n",
              "      \n",
              "  <style>\n",
              "    .colab-df-container {\n",
              "      display:flex;\n",
              "      flex-wrap:wrap;\n",
              "      gap: 12px;\n",
              "    }\n",
              "\n",
              "    .colab-df-convert {\n",
              "      background-color: #E8F0FE;\n",
              "      border: none;\n",
              "      border-radius: 50%;\n",
              "      cursor: pointer;\n",
              "      display: none;\n",
              "      fill: #1967D2;\n",
              "      height: 32px;\n",
              "      padding: 0 0 0 0;\n",
              "      width: 32px;\n",
              "    }\n",
              "\n",
              "    .colab-df-convert:hover {\n",
              "      background-color: #E2EBFA;\n",
              "      box-shadow: 0px 1px 2px rgba(60, 64, 67, 0.3), 0px 1px 3px 1px rgba(60, 64, 67, 0.15);\n",
              "      fill: #174EA6;\n",
              "    }\n",
              "\n",
              "    [theme=dark] .colab-df-convert {\n",
              "      background-color: #3B4455;\n",
              "      fill: #D2E3FC;\n",
              "    }\n",
              "\n",
              "    [theme=dark] .colab-df-convert:hover {\n",
              "      background-color: #434B5C;\n",
              "      box-shadow: 0px 1px 3px 1px rgba(0, 0, 0, 0.15);\n",
              "      filter: drop-shadow(0px 1px 2px rgba(0, 0, 0, 0.3));\n",
              "      fill: #FFFFFF;\n",
              "    }\n",
              "  </style>\n",
              "\n",
              "      <script>\n",
              "        const buttonEl =\n",
              "          document.querySelector('#df-9d9e5308-d6e6-470a-9133-8b657997689b button.colab-df-convert');\n",
              "        buttonEl.style.display =\n",
              "          google.colab.kernel.accessAllowed ? 'block' : 'none';\n",
              "\n",
              "        async function convertToInteractive(key) {\n",
              "          const element = document.querySelector('#df-9d9e5308-d6e6-470a-9133-8b657997689b');\n",
              "          const dataTable =\n",
              "            await google.colab.kernel.invokeFunction('convertToInteractive',\n",
              "                                                     [key], {});\n",
              "          if (!dataTable) return;\n",
              "\n",
              "          const docLinkHtml = 'Like what you see? Visit the ' +\n",
              "            '<a target=\"_blank\" href=https://colab.research.google.com/notebooks/data_table.ipynb>data table notebook</a>'\n",
              "            + ' to learn more about interactive tables.';\n",
              "          element.innerHTML = '';\n",
              "          dataTable['output_type'] = 'display_data';\n",
              "          await google.colab.output.renderOutput(dataTable, element);\n",
              "          const docLink = document.createElement('div');\n",
              "          docLink.innerHTML = docLinkHtml;\n",
              "          element.appendChild(docLink);\n",
              "        }\n",
              "      </script>\n",
              "    </div>\n",
              "  </div>\n",
              "  "
            ]
          },
          "metadata": {},
          "execution_count": 3
        }
      ]
    },
    {
      "cell_type": "code",
      "source": [
        "X.hist(figsize = (12,10))\n",
        "plt.show()"
      ],
      "metadata": {
        "colab": {
          "base_uri": "https://localhost:8080/",
          "height": 607
        },
        "id": "7nOcgASzoTsd",
        "outputId": "6dbf5253-eb40-4102-cd0e-4fddfef70e90"
      },
      "execution_count": 4,
      "outputs": [
        {
          "output_type": "display_data",
          "data": {
            "text/plain": [
              "<Figure size 864x720 with 9 Axes>"
            ],
            "image/png": "[encoded data removed]"
          },
          "metadata": {
            "needs_background": "light"
          }
        }
      ]
    },
    {
      "cell_type": "code",
      "source": [
        "y.head(3)"
      ],
      "metadata": {
        "colab": {
          "base_uri": "https://localhost:8080/"
        },
        "id": "vNpp3TYTqMdQ",
        "outputId": "b6d3fcd4-c6a3-46a6-bf1f-2d120bb06177"
      },
      "execution_count": 5,
      "outputs": [
        {
          "output_type": "execute_result",
          "data": {
            "text/plain": [
              "0    4.526\n",
              "1    3.585\n",
              "2    3.521\n",
              "Name: MedHouseVal, dtype: float64"
            ]
          },
          "metadata": {},
          "execution_count": 5
        }
      ]
    },
    {
      "cell_type": "code",
      "source": [
        "X_train, X_test, y_train, y_test = train_test_split(X, y, test_size=0.25, random_state=13, shuffle=False)\n",
        "print(X_train.shape, X_test.shape, y_train.shape, y_test.shape)"
      ],
      "metadata": {
        "id": "p838N8hz7_Je",
        "colab": {
          "base_uri": "https://localhost:8080/"
        },
        "outputId": "1c215b3e-647d-4b1f-9655-01c9cd0acda1"
      },
      "execution_count": 6,
      "outputs": [
        {
          "output_type": "stream",
          "name": "stdout",
          "text": [
            "(15480, 8) (5160, 8) (15480,) (5160,)\n"
          ]
        }
      ]
    },
    {
      "cell_type": "markdown",
      "source": [
        "# Custom dataset"
      ],
      "metadata": {
        "id": "kejqIlaGht5n"
      }
    },
    {
      "cell_type": "code",
      "source": [
        "class CaliforniaDataset(torch.utils.data.Dataset):\n",
        "  '''\n",
        "  Prepare the california dataset for regression\n",
        "  '''\n",
        "  def __init__(self, X, y, scale_data=True):\n",
        "    if not torch.is_tensor(X) and not torch.is_tensor(y):\n",
        "      # Apply scaling if necessary\n",
        "      if scale_data:\n",
        "          X = StandardScaler().fit_transform(X)\n",
        "      self.X = torch.from_numpy(X)\n",
        "      self.y = torch.from_numpy(np.array(y))\n",
        "\n",
        "  def __len__(self):\n",
        "      return len(self.X)\n",
        "\n",
        "  def __getitem__(self, i):\n",
        "      return self.X[i], self.y[i]"
      ],
      "metadata": {
        "id": "h7XSY-12shfL"
      },
      "execution_count": 7,
      "outputs": []
    },
    {
      "cell_type": "markdown",
      "source": [
        "# Net"
      ],
      "metadata": {
        "id": "u5p0QcgWqn5k"
      }
    },
    {
      "cell_type": "code",
      "source": [
        "class MLP(nn.Module):\n",
        "  '''\n",
        "    Multilayer Perceptron with batchnorm 1d and dropout for regression\n",
        "  '''\n",
        "  def __init__(self, features_num):\n",
        "    super(MLP, self).__init__()\n",
        "    self.layers = nn.Sequential(\n",
        "      nn.Linear(features_num, 64),\n",
        "      nn.ReLU(),\n",
        "      nn.BatchNorm1d(64),\n",
        "      nn.Dropout(0.25),\n",
        "      nn.Linear(64, 32),\n",
        "      nn.ReLU(),\n",
        "\n",
        "      # nn.Linear(32, 64),\n",
        "      # nn.ReLU(),\n",
        "      # nn.BatchNorm1d(64),\n",
        "      # nn.Dropout(0.25),\n",
        "      # nn.Linear(64, 32),\n",
        "      # nn.ReLU(), \n",
        "\n",
        "      nn.Linear(32, 1)\n",
        "    )\n",
        "\n",
        "  def forward(self, x):   \n",
        "    return self.layers(x)\n",
        "\n",
        "class MLPNoBatchNormDropout(nn.Module):\n",
        "  '''\n",
        "    Multilayer Perceptron with batchnorm 1d and dropout for regression\n",
        "  '''\n",
        "  def __init__(self, features_num):\n",
        "    super(MLPNoBatchNormDropout, self).__init__()\n",
        "    self.layers = nn.Sequential(\n",
        "      nn.Linear(features_num, 64),\n",
        "      nn.ReLU(),     \n",
        "      nn.Linear(64, 32),\n",
        "      nn.ReLU(),\n",
        "\n",
        "      # nn.Linear(32, 64),\n",
        "      # nn.ReLU(),    \n",
        "      # nn.Linear(64, 32),\n",
        "      # nn.ReLU(), \n",
        "\n",
        "      nn.Linear(32, 1)\n",
        "    )\n",
        "\n",
        "  def forward(self, x):   \n",
        "    return self.layers(x)"
      ],
      "metadata": {
        "id": "ulegYASGtpQa"
      },
      "execution_count": 8,
      "outputs": []
    },
    {
      "cell_type": "markdown",
      "source": [
        "# train/test methods"
      ],
      "metadata": {
        "id": "3RGJsw7DVTi_"
      }
    },
    {
      "cell_type": "code",
      "source": [
        "def train_one_epoch(epoch_index, optimizer, loss_fn, tb_writer=None):\n",
        "    running_loss = 0.\n",
        "    last_loss = 0.\n",
        "\n",
        "    # Here, we use enumerate(training_loader) instead of\n",
        "    # iter(training_loader) so that we can track the batch\n",
        "    # index and do some intra-epoch reporting\n",
        "    for i, data in enumerate(train_loader):\n",
        "\n",
        "        # Get and prepare inputs\n",
        "        inputs, labels = data[0].float().to(device), data[1].float().to(device)\n",
        "        labels = labels.reshape((labels.shape[0], 1))\n",
        "\n",
        "        # Zero your gradients for every batch!\n",
        "        optimizer.zero_grad()\n",
        "\n",
        "        # Make predictions for this batch\n",
        "        outputs = model(inputs)\n",
        "\n",
        "        # Compute the loss and its gradients\n",
        "        loss = loss_fn(outputs, labels)\n",
        "        loss.backward()\n",
        "\n",
        "        # Adjust learning weights\n",
        "        optimizer.step()\n",
        "\n",
        "        # Gather data and report\n",
        "        running_loss += loss.item()\n",
        "        if i % batches_number == 0:\n",
        "          last_loss = running_loss / 1000 # loss per batch\n",
        "          # print(f'EPOCH {epoch_index + 1}:  batch {i + 1} loss: {last_loss}')\n",
        "\n",
        "          if tb_writer is not None:\n",
        "            tb_x = epoch_index * len(train_loader) + i + 1            \n",
        "            tb_writer.add_scalar('Loss/train', last_loss, tb_x)\n",
        "        running_loss = 0.\n",
        "    \n",
        "    return last_loss\n",
        "\n",
        "\n",
        "def run_model(model, optimizer, loss_fn, best_vloss = 1_000_000., epochs=5):\n",
        "\n",
        "  for epoch_number in range(epochs):\n",
        "    # print('EPOCH {}:'.format(epoch_number + 1))\n",
        "\n",
        "    # Make sure gradient tracking is on, and do a pass over the data\n",
        "    model.train(True)\n",
        "    avg_loss = train_one_epoch(epoch_number, optimizer, loss_fn, writer)\n",
        "\n",
        "    # We don't need gradients on to do reporting\n",
        "    model.train(False)\n",
        "\n",
        "    running_vloss = 0.0\n",
        "    for i, vdata in enumerate(test_loader):\n",
        "        vinputs, vlabels = vdata[0].float().to(device), vdata[1].float().to(device)\n",
        "        vlabels = vlabels.reshape((vlabels.shape[0], 1))\n",
        "\n",
        "        voutputs = model(vinputs)\n",
        "        vloss = loss_fn(voutputs, vlabels)\n",
        "        running_vloss += vloss\n",
        "\n",
        "    avg_vloss = running_vloss / (i + 1)\n",
        "    print(f'epoch {epoch_number} LOSS train {avg_loss:.4f} valid loss: {avg_vloss:.4f}')\n",
        "\n",
        "    # Log the running loss averaged per batch\n",
        "    # for both training and validation\n",
        "    if writer is not None:\n",
        "      writer.add_scalars('Training vs. Validation Loss', epoch_number + 1)\n",
        "      writer.flush()\n",
        "\n",
        "    # Track best performance, and save the model's state\n",
        "    if avg_vloss < best_vloss:\n",
        "        best_vloss = avg_vloss\n",
        "        model_path = 'model_{}_{}'.format(timestamp, epoch_number)\n",
        "        torch.save(model.state_dict(), model_path)\n",
        "\n",
        "    epoch_number += 1"
      ],
      "metadata": {
        "id": "Tp7xGFK4VVLO"
      },
      "execution_count": 70,
      "outputs": []
    },
    {
      "cell_type": "code",
      "source": [
        "# Initializing in a separate cell so we can easily add more epochs to the same run\n",
        "timestamp = datetime.datetime.now().strftime('%Y%m%d_%H%M%S')\n",
        "writer = None #SummaryWriter('runs/fashion_trainer_{}'.format(timestamp))"
      ],
      "metadata": {
        "id": "N2YQrNgjaZki"
      },
      "execution_count": 71,
      "outputs": []
    },
    {
      "cell_type": "markdown",
      "source": [
        "# loaders"
      ],
      "metadata": {
        "id": "3ArLNKQVi3da"
      }
    },
    {
      "cell_type": "code",
      "source": [
        "device = 'cuda' if torch.cuda.is_available() else 'cpu'\n",
        "device"
      ],
      "metadata": {
        "colab": {
          "base_uri": "https://localhost:8080/",
          "height": 35
        },
        "id": "FuqR9yc2hf0I",
        "outputId": "a3b4d4cc-75fa-4448-9ce1-8a29ed5ffe8b"
      },
      "execution_count": 72,
      "outputs": [
        {
          "output_type": "execute_result",
          "data": {
            "text/plain": [
              "'cuda'"
            ],
            "application/vnd.google.colaboratory.intrinsic+json": {
              "type": "string"
            }
          },
          "metadata": {},
          "execution_count": 72
        }
      ]
    },
    {
      "cell_type": "code",
      "source": [
        "features_num=len(X_train.columns)\n",
        "batches_number=10\n",
        "\n",
        "lr=1e-3\n",
        "epochs=10\n",
        "loss = nn.MSELoss()\n",
        "\n",
        "# REPRODUCIBILITY\n",
        "torch.manual_seed(13)"
      ],
      "metadata": {
        "colab": {
          "base_uri": "https://localhost:8080/"
        },
        "id": "fas0gHzoi5T9",
        "outputId": "06fe2522-a593-4b66-a3ee-05689210154a"
      },
      "execution_count": 73,
      "outputs": [
        {
          "output_type": "execute_result",
          "data": {
            "text/plain": [
              "<torch._C.Generator at 0x7f0a9e36b4b0>"
            ]
          },
          "metadata": {},
          "execution_count": 73
        }
      ]
    },
    {
      "cell_type": "code",
      "source": [
        "# batches\n",
        "train_batch_size=len(X_train)//batches_number\n",
        "test_batch_size=len(X_test)//batches_number\n",
        "\n",
        "train_dataset = CaliforniaDataset(X=X_train, y=y_train, scale_data=True)\n",
        "train_loader = torch.utils.data.DataLoader(train_dataset, batch_size=train_batch_size, shuffle=True, num_workers=0)\n",
        "\n",
        "test_dataset = CaliforniaDataset(X=X_test, y=y_test, scale_data=True)\n",
        "test_loader = torch.utils.data.DataLoader(test_dataset, batch_size=test_batch_size, shuffle=False)\n",
        "\n",
        "for batch, label in train_loader:\n",
        "    print(f\"batch.shape={batch.shape}\")\n",
        "    break\n",
        "\n",
        "for batch, label in test_loader:\n",
        "    print(f\"test batch.shape={batch.shape}\")\n",
        "    break"
      ],
      "metadata": {
        "colab": {
          "base_uri": "https://localhost:8080/"
        },
        "id": "66SSx3CWwmgo",
        "outputId": "5ac1485c-b94b-4896-b4f7-f9e73dbb5289"
      },
      "execution_count": 74,
      "outputs": [
        {
          "output_type": "stream",
          "name": "stdout",
          "text": [
            "batch.shape=torch.Size([1548, 8])\n",
            "test batch.shape=torch.Size([516, 8])\n"
          ]
        }
      ]
    },
    {
      "cell_type": "markdown",
      "source": [
        "# SGD"
      ],
      "metadata": {
        "id": "TgVz6Wq42Qb1"
      }
    },
    {
      "cell_type": "code",
      "source": [
        "#  without \n",
        "model=MLPNoBatchNormDropout(features_num).to(device)\n",
        "run_model(model=model, optimizer=torch.optim.SGD(model.parameters(), lr=lr), loss_fn=loss, epochs=epochs)"
      ],
      "metadata": {
        "colab": {
          "base_uri": "https://localhost:8080/"
        },
        "id": "-HEsUTKMegzB",
        "outputId": "8abd9777-e04c-4137-e981-ce67afb5fa50"
      },
      "execution_count": 75,
      "outputs": [
        {
          "output_type": "stream",
          "name": "stdout",
          "text": [
            "epoch 0 LOSS train 0.0046 valid loss: 5.9362\n",
            "epoch 1 LOSS train 0.0043 valid loss: 5.5537\n",
            "epoch 2 LOSS train 0.0042 valid loss: 5.1918\n",
            "epoch 3 LOSS train 0.0038 valid loss: 4.8498\n",
            "epoch 4 LOSS train 0.0036 valid loss: 4.5264\n",
            "epoch 5 LOSS train 0.0032 valid loss: 4.2226\n",
            "epoch 6 LOSS train 0.0031 valid loss: 3.9387\n",
            "epoch 7 LOSS train 0.0028 valid loss: 3.6753\n",
            "epoch 8 LOSS train 0.0026 valid loss: 3.4334\n",
            "epoch 9 LOSS train 0.0024 valid loss: 3.2133\n"
          ]
        }
      ]
    },
    {
      "cell_type": "code",
      "source": [
        "model=MLP(features_num).to(device)\n",
        "run_model(model=model, optimizer=torch.optim.SGD(model.parameters(), lr=lr), loss_fn=loss, epochs=epochs)"
      ],
      "metadata": {
        "colab": {
          "base_uri": "https://localhost:8080/"
        },
        "id": "d1bURghr1eAu",
        "outputId": "d0ce3905-8d88-484f-d758-351903349dda"
      },
      "execution_count": 76,
      "outputs": [
        {
          "output_type": "stream",
          "name": "stdout",
          "text": [
            "epoch 0 LOSS train 0.0053 valid loss: 6.6393\n",
            "epoch 1 LOSS train 0.0045 valid loss: 6.0917\n",
            "epoch 2 LOSS train 0.0044 valid loss: 5.5275\n",
            "epoch 3 LOSS train 0.0038 valid loss: 5.0212\n",
            "epoch 4 LOSS train 0.0037 valid loss: 4.5758\n",
            "epoch 5 LOSS train 0.0032 valid loss: 4.2247\n",
            "epoch 6 LOSS train 0.0026 valid loss: 3.8982\n",
            "epoch 7 LOSS train 0.0025 valid loss: 3.5914\n",
            "epoch 8 LOSS train 0.0023 valid loss: 3.3299\n",
            "epoch 9 LOSS train 0.0019 valid loss: 3.1129\n"
          ]
        }
      ]
    },
    {
      "cell_type": "markdown",
      "source": [
        "# RMSprop"
      ],
      "metadata": {
        "id": "GC7MlpnW2WCq"
      }
    },
    {
      "cell_type": "code",
      "source": [
        "#  without \n",
        "model=MLPNoBatchNormDropout(features_num).to(device)\n",
        "run_model(model=model, optimizer=torch.optim.RMSprop(model.parameters(), lr=lr, alpha=0.99), loss_fn=loss, epochs=epochs)"
      ],
      "metadata": {
        "colab": {
          "base_uri": "https://localhost:8080/"
        },
        "id": "duv2DXtdewoq",
        "outputId": "cb33d008-a0c0-4841-f071-50e0082cea10"
      },
      "execution_count": 77,
      "outputs": [
        {
          "output_type": "stream",
          "name": "stdout",
          "text": [
            "epoch 0 LOSS train 0.0052 valid loss: 1.9161\n",
            "epoch 1 LOSS train 0.0010 valid loss: 1.4999\n",
            "epoch 2 LOSS train 0.0019 valid loss: 1.2903\n",
            "epoch 3 LOSS train 0.0007 valid loss: 1.1676\n",
            "epoch 4 LOSS train 0.0006 valid loss: 1.0044\n",
            "epoch 5 LOSS train 0.0006 valid loss: 0.9122\n",
            "epoch 6 LOSS train 0.0005 valid loss: 0.8403\n",
            "epoch 7 LOSS train 0.0005 valid loss: 0.7680\n",
            "epoch 8 LOSS train 0.0005 valid loss: 0.7189\n",
            "epoch 9 LOSS train 0.0005 valid loss: 0.6839\n"
          ]
        }
      ]
    },
    {
      "cell_type": "code",
      "source": [
        "model=MLP(features_num).to(device)\n",
        "run_model(model=model, optimizer=torch.optim.RMSprop(model.parameters(), lr=lr, alpha=0.99), loss_fn=loss, epochs=epochs)"
      ],
      "metadata": {
        "colab": {
          "base_uri": "https://localhost:8080/"
        },
        "id": "A_hr9fFG2T0j",
        "outputId": "cbb21b46-5660-4442-bb53-f52965c02227"
      },
      "execution_count": 78,
      "outputs": [
        {
          "output_type": "stream",
          "name": "stdout",
          "text": [
            "epoch 0 LOSS train 0.0061 valid loss: 3.8451\n",
            "epoch 1 LOSS train 0.0009 valid loss: 2.5952\n",
            "epoch 2 LOSS train 0.0006 valid loss: 1.8795\n",
            "epoch 3 LOSS train 0.0005 valid loss: 1.4385\n",
            "epoch 4 LOSS train 0.0005 valid loss: 1.3112\n",
            "epoch 5 LOSS train 0.0006 valid loss: 1.2074\n",
            "epoch 6 LOSS train 0.0005 valid loss: 1.0983\n",
            "epoch 7 LOSS train 0.0005 valid loss: 1.1153\n",
            "epoch 8 LOSS train 0.0005 valid loss: 1.0255\n",
            "epoch 9 LOSS train 0.0004 valid loss: 0.9909\n"
          ]
        }
      ]
    },
    {
      "cell_type": "markdown",
      "source": [
        "# Adam"
      ],
      "metadata": {
        "id": "TdowZES22fFt"
      }
    },
    {
      "cell_type": "markdown",
      "source": [
        ""
      ],
      "metadata": {
        "id": "p04nh_lEgd7G"
      }
    },
    {
      "cell_type": "code",
      "source": [
        "#  without \n",
        "model=MLPNoBatchNormDropout(features_num).to(device)\n",
        "run_model(model=model, optimizer=torch.optim.Adam(model.parameters(), lr=lr), loss_fn=loss, epochs=epochs)"
      ],
      "metadata": {
        "colab": {
          "base_uri": "https://localhost:8080/"
        },
        "id": "OCAhGB4_e2W8",
        "outputId": "cdc21b6c-87f6-4511-a507-85b371a5d8ed"
      },
      "execution_count": 79,
      "outputs": [
        {
          "output_type": "stream",
          "name": "stdout",
          "text": [
            "epoch 0 LOSS train 0.0051 valid loss: 5.8621\n",
            "epoch 1 LOSS train 0.0045 valid loss: 4.8847\n",
            "epoch 2 LOSS train 0.0036 valid loss: 3.8174\n",
            "epoch 3 LOSS train 0.0029 valid loss: 2.8618\n",
            "epoch 4 LOSS train 0.0020 valid loss: 2.2439\n",
            "epoch 5 LOSS train 0.0013 valid loss: 1.9409\n",
            "epoch 6 LOSS train 0.0018 valid loss: 1.7589\n",
            "epoch 7 LOSS train 0.0008 valid loss: 1.6174\n",
            "epoch 8 LOSS train 0.0008 valid loss: 1.4761\n",
            "epoch 9 LOSS train 0.0008 valid loss: 1.3563\n"
          ]
        }
      ]
    },
    {
      "cell_type": "code",
      "source": [
        "model=MLP(features_num).to(device)\n",
        "run_model(model=model, optimizer=torch.optim.Adam(model.parameters(), lr=lr), loss_fn=loss, epochs=epochs)"
      ],
      "metadata": {
        "colab": {
          "base_uri": "https://localhost:8080/"
        },
        "id": "r_U0WWLE2hZD",
        "outputId": "f52888d5-2fa3-4f41-f740-a3820ba1a127"
      },
      "execution_count": 80,
      "outputs": [
        {
          "output_type": "stream",
          "name": "stdout",
          "text": [
            "epoch 0 LOSS train 0.0060 valid loss: 6.7074\n",
            "epoch 1 LOSS train 0.0043 valid loss: 5.4453\n",
            "epoch 2 LOSS train 0.0033 valid loss: 4.0285\n",
            "epoch 3 LOSS train 0.0022 valid loss: 2.8728\n",
            "epoch 4 LOSS train 0.0017 valid loss: 2.0833\n",
            "epoch 5 LOSS train 0.0010 valid loss: 1.6017\n",
            "epoch 6 LOSS train 0.0009 valid loss: 1.2853\n",
            "epoch 7 LOSS train 0.0008 valid loss: 1.0799\n",
            "epoch 8 LOSS train 0.0006 valid loss: 1.0085\n",
            "epoch 9 LOSS train 0.0007 valid loss: 0.9317\n"
          ]
        }
      ]
    },
    {
      "cell_type": "markdown",
      "source": [
        "лучший результат получился с оптимизатором RMSprop, с небольшой разницей с Adam. \n",
        "\n",
        "Для всех оптимизаторов добавление BatchNorm и Dropout улучшает тестовую оценку (особенно для SGD), но зависит от строения самой сети и других параметров.\n",
        "\n",
        "качество прогнозирования очень зависит от размера батча (можно регулировать batches_number), learning rate i t.d.\n",
        "\n"
      ],
      "metadata": {
        "id": "nSMHaRev5MzI"
      }
    }
  ],
  "metadata": {
    "kernelspec": {
      "display_name": "Python 3",
      "language": "python",
      "name": "python3"
    },
    "language_info": {
      "codemirror_mode": {
        "name": "ipython",
        "version": 3
      },
      "file_extension": ".py",
      "mimetype": "text/x-python",
      "name": "python",
      "nbconvert_exporter": "python",
      "pygments_lexer": "ipython3",
      "version": "3.7.4"
    },
    "colab": {
      "name": "HW_03.ipynb",
      "provenance": [],
      "collapsed_sections": [],
      "toc_visible": true,
      "include_colab_link": true
    },
    "accelerator": "GPU"
  },
  "nbformat": 4,
  "nbformat_minor": 0
}