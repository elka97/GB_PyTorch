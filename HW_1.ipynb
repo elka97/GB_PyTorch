{
  "cells": [
    {
      "cell_type": "markdown",
      "metadata": {
        "id": "view-in-github",
        "colab_type": "text"
      },
      "source": [
        "<a href=\"https://colab.research.google.com/github/elka97/GB_PyTorch/blob/main/HW_1.ipynb\" target=\"_parent\"><img src=\"https://colab.research.google.com/assets/colab-badge.svg\" alt=\"Open In Colab\"/></a>"
      ]
    },
    {
      "cell_type": "code",
      "execution_count": 2,
      "metadata": {
        "id": "_CNZn_3CofVO"
      },
      "outputs": [],
      "source": [
        "import torch\n",
        "\n",
        "def print_tens_info(tensor):\n",
        "    print(\"X :\\n%s\\n\" % tensor)\n",
        "    print(\"X количество измерений:\\n%s\\n\" % tensor.dim())\n",
        "    print(\"X размеры : \",  tensor.size())\n",
        "    print(\"X тип : %s\\n\" % (tensor.type()))    "
      ]
    },
    {
      "cell_type": "code",
      "source": [
        ""
      ],
      "metadata": {
        "id": "ft2HPnYO6dD_"
      },
      "execution_count": null,
      "outputs": []
    },
    {
      "cell_type": "code",
      "execution_count": 5,
      "metadata": {
        "id": "QGYTKAxeofVR"
      },
      "outputs": [],
      "source": [
        "# 1. Создайте случайный FloatTensor размера 3x4x5\n",
        "\n",
        "x = torch.randn(3, 4, 5).reshape(3, 4, 5).type(torch.float32)\n",
        "# print_tens_info(x)\n",
        "#  or\n",
        "x = torch.randn(3, 4, 5).type(torch.float32)\n",
        "# print_tens_info(x)\n",
        "#  or\n",
        "x = torch.randn(3, 4, 5)\n",
        "# print_tens_info(x)"
      ]
    },
    {
      "cell_type": "code",
      "execution_count": 6,
      "metadata": {
        "id": "7GV_q8DdofVV",
        "colab": {
          "base_uri": "https://localhost:8080/"
        },
        "outputId": "45b0df9f-cf31-4e0c-eee4-a6ed269ec72b"
      },
      "outputs": [
        {
          "output_type": "execute_result",
          "data": {
            "text/plain": [
              "torch.Size([3, 4, 5])"
            ]
          },
          "metadata": {},
          "execution_count": 6
        }
      ],
      "source": [
        "# 2. Выведите его форму (shape)\n",
        "\n",
        "\n",
        "# print(f\"shape: {x.shape}\")\n",
        "x.shape"
      ]
    },
    {
      "cell_type": "code",
      "execution_count": 7,
      "metadata": {
        "id": "f1OTy65FofVX",
        "colab": {
          "base_uri": "https://localhost:8080/"
        },
        "outputId": "1968e19c-f82d-4995-b6b8-4b72490fbe32"
      },
      "outputs": [
        {
          "output_type": "stream",
          "name": "stdout",
          "text": [
            "x_6x10: torch.Size([6, 10])\n",
            "X :\n",
            "tensor([[-0.8157,  0.0916, -0.3417,  1.4263, -0.6415, -0.2731, -0.2430,  0.1476,\n",
            "         -0.9480,  0.4363],\n",
            "        [ 0.5519, -0.7552, -0.7396,  1.7069, -0.2224,  0.5381,  0.7213,  1.8639,\n",
            "         -0.5514,  1.5519],\n",
            "        [ 0.2960,  1.0187,  2.1866, -1.4652, -0.9282,  0.9568, -3.2120,  0.2439,\n",
            "          0.5133, -0.6855],\n",
            "        [-0.2906,  0.6411, -0.2788,  0.3228, -0.3149, -1.2992,  0.7451, -1.0808,\n",
            "          1.2963,  1.2163],\n",
            "        [ 1.0958, -1.0530,  0.1705, -0.7803,  0.1528,  0.6034, -1.2075, -0.5665,\n",
            "          0.3291,  0.0276],\n",
            "        [-0.3947, -1.9039, -1.6601, -1.1468,  0.2760,  0.1421,  0.5738,  0.9641,\n",
            "         -0.5208, -0.8576]])\n",
            "\n",
            "X количество измерений:\n",
            "2\n",
            "\n",
            "X размеры :  torch.Size([6, 10])\n",
            "X тип : torch.FloatTensor\n",
            "\n"
          ]
        }
      ],
      "source": [
        "# 3. Приведите его к форме 6х10\n",
        "\n",
        "x_6x10 = x.reshape(6,10)\n",
        "print(f\"x_6x10: {x_6x10.shape}\")\n",
        "print_tens_info(x_6x10)"
      ]
    },
    {
      "cell_type": "code",
      "execution_count": 8,
      "metadata": {
        "id": "BEVOv9_TofVe",
        "colab": {
          "base_uri": "https://localhost:8080/"
        },
        "outputId": "2b6c091c-c876-4e48-a106-38319e36703c"
      },
      "outputs": [
        {
          "output_type": "stream",
          "name": "stdout",
          "text": [
            "X :\n",
            "tensor([ 0,  0,  0,  0,  0,  2,  0, -2,  0, -1], dtype=torch.int32)\n",
            "\n",
            "X количество измерений:\n",
            "1\n",
            "\n",
            "X размеры :  torch.Size([10])\n",
            "X тип : torch.IntTensor\n",
            "\n"
          ]
        }
      ],
      "source": [
        "# 4. Создайте случайный IntTensor размера 10\n",
        "\n",
        "x_int_10 = torch.randn(10).type(torch.int)\n",
        "print_tens_info(x_int_10)"
      ]
    },
    {
      "cell_type": "code",
      "source": [
        "# 5. Умножьте созданный FloatTensor на созданный IntTensor поэлементно\n",
        "\n",
        "x_6x10.mul(x_int_10)"
      ],
      "metadata": {
        "id": "TAX3DUiSa07K",
        "colab": {
          "base_uri": "https://localhost:8080/"
        },
        "outputId": "b932aaaa-1c2b-4099-d44e-5df2e0ceb76d"
      },
      "execution_count": 9,
      "outputs": [
        {
          "output_type": "execute_result",
          "data": {
            "text/plain": [
              "tensor([[-0.0000,  0.0000, -0.0000,  0.0000, -0.0000, -0.5463, -0.0000, -0.2952,\n",
              "         -0.0000, -0.4363],\n",
              "        [ 0.0000, -0.0000, -0.0000,  0.0000, -0.0000,  1.0763,  0.0000, -3.7277,\n",
              "         -0.0000, -1.5519],\n",
              "        [ 0.0000,  0.0000,  0.0000, -0.0000, -0.0000,  1.9137, -0.0000, -0.4879,\n",
              "          0.0000,  0.6855],\n",
              "        [-0.0000,  0.0000, -0.0000,  0.0000, -0.0000, -2.5984,  0.0000,  2.1617,\n",
              "          0.0000, -1.2163],\n",
              "        [ 0.0000, -0.0000,  0.0000, -0.0000,  0.0000,  1.2068, -0.0000,  1.1330,\n",
              "          0.0000, -0.0276],\n",
              "        [-0.0000, -0.0000, -0.0000, -0.0000,  0.0000,  0.2842,  0.0000, -1.9282,\n",
              "         -0.0000,  0.8576]])"
            ]
          },
          "metadata": {},
          "execution_count": 9
        }
      ]
    },
    {
      "cell_type": "code",
      "execution_count": 10,
      "metadata": {
        "id": "eUxdWlQZofVi",
        "colab": {
          "base_uri": "https://localhost:8080/"
        },
        "outputId": "d03e4f57-dce1-4251-e772-9d2a2d0decfe"
      },
      "outputs": [
        {
          "output_type": "execute_result",
          "data": {
            "text/plain": [
              "(array([[ 4.480958  ,  3.4631703 , -2.6203327 ,  0.36956802, -2.5145395 ,\n",
              "         -1.0142171 ],\n",
              "        [ 3.4631703 , 11.381336  , -7.212125  , -0.82064044, -1.832708  ,\n",
              "          1.6724705 ],\n",
              "        [-2.6203327 , -7.212125  , 20.940805  , -4.291692  ,  5.0937834 ,\n",
              "         -5.4134336 ],\n",
              "        [ 0.36956802, -0.82064044, -4.291692  ,  7.347633  , -1.9522371 ,\n",
              "         -3.6174438 ],\n",
              "        [-2.5145395 , -1.832708  ,  5.0937834 , -1.9522371 ,  5.223027  ,\n",
              "          0.8777429 ],\n",
              "        [-1.0142171 ,  1.6724705 , -5.4134336 , -3.6174438 ,  0.8777429 ,\n",
              "         10.213447  ]], dtype=float32), (6, 6))"
            ]
          },
          "metadata": {},
          "execution_count": 10
        }
      ],
      "source": [
        "# 6. Умножьте тензор матрично на себя, чтобы результат был размерности 6x6\n",
        "# Подсказка: .dot может не подойти\n",
        "\n",
        "import numpy as np\n",
        "\n",
        "res = np.dot(x_6x10, x_6x10.T)\n",
        "res, res.shape"
      ]
    },
    {
      "cell_type": "code",
      "execution_count": 25,
      "metadata": {
        "id": "u3V6CsNkofVj",
        "colab": {
          "base_uri": "https://localhost:8080/"
        },
        "outputId": "7c0c3870-6c97-489d-f75b-a05d32750b15"
      },
      "outputs": [
        {
          "output_type": "stream",
          "name": "stdout",
          "text": [
            "tensor(-148.5000, grad_fn=<SubBackward0>)\n",
            "True\n",
            "True\n",
            "True\n",
            "True\n",
            "x'=3.0\n",
            "tensor(1.)\n",
            "tensor(-75.)\n"
          ]
        }
      ],
      "source": [
        "# 7. Посчитайте производную функции y = x**3 + z - 75t в точке (1, 0.5, 2)\n",
        "\n",
        "x=torch.tensor(1.0, requires_grad=True)\n",
        "z=torch.tensor(0.5, requires_grad=True)\n",
        "t=torch.tensor(2.0, requires_grad=True)\n",
        "\n",
        "y=torch.pow(x,3)+z-75*t\n",
        "print(y)\n",
        "\n",
        "# Оценка возможности получения x, y\n",
        "print(x.requires_grad)\n",
        "print(z.requires_grad)\n",
        "print(t.requires_grad)\n",
        "print(y.requires_grad)\n",
        "\n",
        "# Ищу деривацию, реализованную обратной функцией\n",
        "y.backward()  \n",
        "\n",
        "# Просмотр производной (градиента) \n",
        "print(f\"x'={x.grad}\")\n",
        "print(z.grad)\n",
        "print(t.grad)"
      ]
    },
    {
      "cell_type": "code",
      "source": [
        ""
      ],
      "metadata": {
        "colab": {
          "base_uri": "https://localhost:8080/"
        },
        "id": "iiDRdRQQ9fAg",
        "outputId": "e2a8347c-683a-4e52-afdd-07d1c0cdc586"
      },
      "execution_count": 21,
      "outputs": [
        {
          "output_type": "stream",
          "name": "stdout",
          "text": [
            "True\n",
            "True\n",
            "True\n"
          ]
        }
      ]
    },
    {
      "cell_type": "code",
      "source": [
        ""
      ],
      "metadata": {
        "id": "NioCLLYZ9qHp"
      },
      "execution_count": 22,
      "outputs": []
    },
    {
      "cell_type": "code",
      "source": [
        ""
      ],
      "metadata": {
        "colab": {
          "base_uri": "https://localhost:8080/"
        },
        "id": "gwHZlog-9uhS",
        "outputId": "b4ce13da-0e07-48cd-bc22-9365c3a651fc"
      },
      "execution_count": 23,
      "outputs": [
        {
          "output_type": "stream",
          "name": "stdout",
          "text": [
            "tensor(3.)\n",
            "tensor(1.)\n",
            "tensor(-75.)\n"
          ]
        }
      ]
    },
    {
      "cell_type": "code",
      "execution_count": 13,
      "metadata": {
        "id": "FzH6QkyxofVm",
        "colab": {
          "base_uri": "https://localhost:8080/"
        },
        "outputId": "dcd87df7-273c-40cb-b58d-bfcb40a593ad"
      },
      "outputs": [
        {
          "output_type": "execute_result",
          "data": {
            "text/plain": [
              "(tensor([[1., 1., 1., 1., 1., 1.],\n",
              "         [1., 1., 1., 1., 1., 1.],\n",
              "         [1., 1., 1., 1., 1., 1.],\n",
              "         [1., 1., 1., 1., 1., 1.],\n",
              "         [1., 1., 1., 1., 1., 1.]]), torch.Size([5, 6]))"
            ]
          },
          "metadata": {},
          "execution_count": 13
        }
      ],
      "source": [
        "# 8. Создайте единичный тензор размера 5x6\n",
        "ones_5x6=torch.ones(5, 6)\n",
        "\n",
        "ones_5x6, ones_5x6.shape"
      ]
    },
    {
      "cell_type": "code",
      "execution_count": 14,
      "metadata": {
        "id": "z49ttvWPofVo",
        "colab": {
          "base_uri": "https://localhost:8080/"
        },
        "outputId": "8ec01fa4-af12-430a-cd57-a17c7da258d7"
      },
      "outputs": [
        {
          "output_type": "execute_result",
          "data": {
            "text/plain": [
              "(array([[1., 1., 1., 1., 1., 1.],\n",
              "        [1., 1., 1., 1., 1., 1.],\n",
              "        [1., 1., 1., 1., 1., 1.],\n",
              "        [1., 1., 1., 1., 1., 1.],\n",
              "        [1., 1., 1., 1., 1., 1.]], dtype=float32), (5, 6))"
            ]
          },
          "metadata": {},
          "execution_count": 14
        }
      ],
      "source": [
        "# 9. Переведите его в формат numpy\n",
        "\n",
        "np_ones_5x6 = ones_5x6.numpy()\n",
        "\n",
        "np_ones_5x6, np_ones_5x6.shape"
      ]
    }
  ],
  "metadata": {
    "kernelspec": {
      "display_name": "Python 3",
      "language": "python",
      "name": "python3"
    },
    "language_info": {
      "codemirror_mode": {
        "name": "ipython",
        "version": 3
      },
      "file_extension": ".py",
      "mimetype": "text/x-python",
      "name": "python",
      "nbconvert_exporter": "python",
      "pygments_lexer": "ipython3",
      "version": "3.7.4"
    },
    "colab": {
      "name": "HW_1.ipynb",
      "provenance": [],
      "collapsed_sections": [],
      "include_colab_link": true
    }
  },
  "nbformat": 4,
  "nbformat_minor": 0
}