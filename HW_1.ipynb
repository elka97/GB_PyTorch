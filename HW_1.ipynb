{
  "cells": [
    {
      "cell_type": "markdown",
      "metadata": {
        "id": "view-in-github",
        "colab_type": "text"
      },
      "source": [
        "<a href=\"https://colab.research.google.com/github/elka97/GB_PyTorch/blob/main/HW_1.ipynb\" target=\"_parent\"><img src=\"https://colab.research.google.com/assets/colab-badge.svg\" alt=\"Open In Colab\"/></a>"
      ]
    },
    {
      "cell_type": "code",
      "execution_count": 49,
      "metadata": {
        "id": "_CNZn_3CofVO"
      },
      "outputs": [],
      "source": [
        "import torch"
      ]
    },
    {
      "cell_type": "code",
      "execution_count": 50,
      "metadata": {
        "id": "QGYTKAxeofVR",
        "colab": {
          "base_uri": "https://localhost:8080/"
        },
        "outputId": "89482d23-81c6-4718-b066-cd64af99fde2"
      },
      "outputs": [
        {
          "output_type": "execute_result",
          "data": {
            "text/plain": [
              "tensor([[[ 0.9676, -0.3522,  0.2370,  2.2477, -0.4627],\n",
              "         [ 0.0780, -1.2731, -0.9257, -0.5893,  0.9691],\n",
              "         [ 0.5518,  0.1204, -1.0953, -1.2021,  1.0678],\n",
              "         [ 1.5050,  0.7676, -1.9985, -1.9140,  0.5024]],\n",
              "\n",
              "        [[ 0.1379, -0.2519, -1.2963,  0.8928,  0.7607],\n",
              "         [ 0.8108, -1.0534,  1.5163, -0.1846,  0.4256],\n",
              "         [-0.3547, -0.6275, -0.3603, -0.3952, -0.8299],\n",
              "         [ 0.2939, -1.3375,  0.9876,  0.3350, -0.0662]],\n",
              "\n",
              "        [[ 0.5962,  1.2552,  0.5386,  0.5119, -0.9258],\n",
              "         [ 1.3504, -1.7518,  0.4368, -0.3681,  0.1412],\n",
              "         [-1.1136, -1.7405,  0.2511, -1.0532, -0.9230],\n",
              "         [ 1.6480,  0.6702,  0.6710,  0.2287,  1.3262]]])"
            ]
          },
          "metadata": {},
          "execution_count": 50
        }
      ],
      "source": [
        "# 1. Создайте случайный FloatTensor размера 3x4x5\n",
        "\n",
        "x = torch.randn(3, 4, 5).reshape(3, 4, 5).type(torch.float32)\n",
        "#  or\n",
        "x = torch.randn(3, 4, 5).type(torch.float32)\n",
        "#  or\n",
        "x = torch.randn(3, 4, 5)\n",
        "\n",
        "x"
      ]
    },
    {
      "cell_type": "code",
      "execution_count": 51,
      "metadata": {
        "id": "7GV_q8DdofVV",
        "colab": {
          "base_uri": "https://localhost:8080/"
        },
        "outputId": "e3f590b4-3d98-4b3f-af8b-6e8f16d1b86a"
      },
      "outputs": [
        {
          "output_type": "execute_result",
          "data": {
            "text/plain": [
              "torch.Size([3, 4, 5])"
            ]
          },
          "metadata": {},
          "execution_count": 51
        }
      ],
      "source": [
        "# 2. Выведите его форму (shape)\n",
        "\n",
        "x.shape"
      ]
    },
    {
      "cell_type": "code",
      "execution_count": 53,
      "metadata": {
        "id": "f1OTy65FofVX",
        "colab": {
          "base_uri": "https://localhost:8080/"
        },
        "outputId": "7f572949-548d-438a-af5b-11cff730935b"
      },
      "outputs": [
        {
          "output_type": "execute_result",
          "data": {
            "text/plain": [
              "torch.Size([6, 10])"
            ]
          },
          "metadata": {},
          "execution_count": 53
        }
      ],
      "source": [
        "# 3. Приведите его к форме 6х10\n",
        "\n",
        "x_6x10 = x.reshape(6,10)\n",
        "x_6x10.shape"
      ]
    },
    {
      "cell_type": "code",
      "execution_count": 54,
      "metadata": {
        "id": "BEVOv9_TofVe",
        "colab": {
          "base_uri": "https://localhost:8080/"
        },
        "outputId": "ed7e629c-1ac5-4ceb-e6b2-513f3a5d4ca7"
      },
      "outputs": [
        {
          "output_type": "execute_result",
          "data": {
            "text/plain": [
              "(tensor([ 0,  0,  0,  0,  0,  0,  0, -1,  0,  0], dtype=torch.int32),\n",
              " torch.Size([10]))"
            ]
          },
          "metadata": {},
          "execution_count": 54
        }
      ],
      "source": [
        "# 4. Создайте случайный IntTensor размера 10\n",
        "\n",
        "x_int_10 = torch.randn(10).type(torch.int)\n",
        "x_int_10, x_int_10.shape"
      ]
    },
    {
      "cell_type": "code",
      "source": [
        "# 5. Умножьте созданный FloatTensor на созданный IntTensor поэлементно\n",
        "\n",
        "x_6x10.mul(x_int_10)"
      ],
      "metadata": {
        "id": "TAX3DUiSa07K",
        "colab": {
          "base_uri": "https://localhost:8080/"
        },
        "outputId": "9cd5a722-cfab-4b24-cf01-b648e9a40fb1"
      },
      "execution_count": 55,
      "outputs": [
        {
          "output_type": "execute_result",
          "data": {
            "text/plain": [
              "tensor([[ 0.0000, -0.0000,  0.0000,  0.0000, -0.0000,  0.0000, -0.0000,  0.9257,\n",
              "         -0.0000,  0.0000],\n",
              "        [ 0.0000,  0.0000, -0.0000, -0.0000,  0.0000,  0.0000,  0.0000,  1.9985,\n",
              "         -0.0000,  0.0000],\n",
              "        [ 0.0000, -0.0000, -0.0000,  0.0000,  0.0000,  0.0000, -0.0000, -1.5163,\n",
              "         -0.0000,  0.0000],\n",
              "        [-0.0000, -0.0000, -0.0000, -0.0000, -0.0000,  0.0000, -0.0000, -0.9876,\n",
              "          0.0000, -0.0000],\n",
              "        [ 0.0000,  0.0000,  0.0000,  0.0000, -0.0000,  0.0000, -0.0000, -0.4368,\n",
              "         -0.0000,  0.0000],\n",
              "        [-0.0000, -0.0000,  0.0000, -0.0000, -0.0000,  0.0000,  0.0000, -0.6710,\n",
              "          0.0000,  0.0000]])"
            ]
          },
          "metadata": {},
          "execution_count": 55
        }
      ]
    },
    {
      "cell_type": "code",
      "execution_count": 56,
      "metadata": {
        "id": "eUxdWlQZofVi",
        "colab": {
          "base_uri": "https://localhost:8080/"
        },
        "outputId": "2ffbfb58-f66b-46dc-d978-69ac8a54225a"
      },
      "outputs": [
        {
          "output_type": "execute_result",
          "data": {
            "text/plain": [
              "(array([[10.152926  , -0.35936558,  2.0918453 , -0.16200888,  4.1264677 ,\n",
              "         -2.5407004 ],\n",
              "        [-0.35936558, 14.868587  , -0.8470048 , -3.520337  , -1.1234626 ,\n",
              "          1.0637354 ],\n",
              "        [ 2.0918453 , -0.8470048 ,  7.420483  ,  2.6469147 ,  2.551424  ,\n",
              "          0.48703986],\n",
              "        [-0.16200888, -3.520337  ,  2.6469147 ,  4.4617434 ,  2.4116158 ,\n",
              "          2.818503  ],\n",
              "        [ 4.1264677 , -1.1234626 ,  2.551424  ,  2.4116158 ,  8.578826  ,\n",
              "         -0.9503063 ],\n",
              "        [-2.5407004 ,  1.0637354 ,  0.48703986,  2.818503  , -0.9503063 ,\n",
              "         11.719983  ]], dtype=float32), (6, 6))"
            ]
          },
          "metadata": {},
          "execution_count": 56
        }
      ],
      "source": [
        "# 6. Умножьте тензор матрично на себя, чтобы результат был размерности 6x6\n",
        "# Подсказка: .dot может не подойти\n",
        "\n",
        "import numpy as np\n",
        "\n",
        "res = np.dot(x_6x10, x_6x10.T)\n",
        "res, res.shape"
      ]
    },
    {
      "cell_type": "code",
      "execution_count": 57,
      "metadata": {
        "id": "u3V6CsNkofVj",
        "colab": {
          "base_uri": "https://localhost:8080/"
        },
        "outputId": "ad31a6b5-6b1e-49cd-c7aa-012e43884679"
      },
      "outputs": [
        {
          "output_type": "stream",
          "name": "stdout",
          "text": [
            "tensor(-148.5000, grad_fn=<SubBackward0>)\n",
            "tensor(3.) tensor(1.) tensor(-75.)\n"
          ]
        }
      ],
      "source": [
        "# 7. Посчитайте производную функции y = x**3 + z - 75t в точке (1, 0.5, 2)\n",
        "\n",
        "x=torch.tensor(1.0, requires_grad=True)\n",
        "z=torch.tensor(0.5, requires_grad=True) # constant ... requires_grad?\n",
        "t=torch.tensor(2.0, requires_grad=True)\n",
        "\n",
        "y=torch.pow(x,3)+z-75*t\n",
        "print(y)\n",
        "\n",
        "# # Оценка возможности получения x, y\n",
        "# print(x.requires_grad)\n",
        "# print(z.requires_grad)\n",
        "# print(t.requires_grad)\n",
        "\n",
        "# Ищу деривацию, реализованную обратной функцией\n",
        "y.backward()  \n",
        "\n",
        "# Просмотр производной (градиента) \n",
        "print(x.grad, z.grad, t.grad)"
      ]
    },
    {
      "cell_type": "code",
      "execution_count": 58,
      "metadata": {
        "id": "FzH6QkyxofVm",
        "colab": {
          "base_uri": "https://localhost:8080/"
        },
        "outputId": "7eda32d2-dcf4-40da-f543-259a4eec9718"
      },
      "outputs": [
        {
          "output_type": "execute_result",
          "data": {
            "text/plain": [
              "(tensor([[1., 1., 1., 1., 1., 1.],\n",
              "         [1., 1., 1., 1., 1., 1.],\n",
              "         [1., 1., 1., 1., 1., 1.],\n",
              "         [1., 1., 1., 1., 1., 1.],\n",
              "         [1., 1., 1., 1., 1., 1.]]), torch.Size([5, 6]))"
            ]
          },
          "metadata": {},
          "execution_count": 58
        }
      ],
      "source": [
        "# 8. Создайте единичный тензор размера 5x6\n",
        "ones_5x6=torch.ones(5, 6)\n",
        "\n",
        "ones_5x6, ones_5x6.shape"
      ]
    },
    {
      "cell_type": "code",
      "execution_count": 59,
      "metadata": {
        "id": "z49ttvWPofVo",
        "colab": {
          "base_uri": "https://localhost:8080/"
        },
        "outputId": "e49814a9-6ab7-4291-a53a-f35943805a4f"
      },
      "outputs": [
        {
          "output_type": "execute_result",
          "data": {
            "text/plain": [
              "(array([[1., 1., 1., 1., 1., 1.],\n",
              "        [1., 1., 1., 1., 1., 1.],\n",
              "        [1., 1., 1., 1., 1., 1.],\n",
              "        [1., 1., 1., 1., 1., 1.],\n",
              "        [1., 1., 1., 1., 1., 1.]], dtype=float32), (5, 6))"
            ]
          },
          "metadata": {},
          "execution_count": 59
        }
      ],
      "source": [
        "# 9. Переведите его в формат numpy\n",
        "\n",
        "np_ones_5x6 = ones_5x6.numpy()\n",
        "\n",
        "np_ones_5x6, np_ones_5x6.shape"
      ]
    }
  ],
  "metadata": {
    "kernelspec": {
      "display_name": "Python 3",
      "language": "python",
      "name": "python3"
    },
    "language_info": {
      "codemirror_mode": {
        "name": "ipython",
        "version": 3
      },
      "file_extension": ".py",
      "mimetype": "text/x-python",
      "name": "python",
      "nbconvert_exporter": "python",
      "pygments_lexer": "ipython3",
      "version": "3.7.4"
    },
    "colab": {
      "name": "HW_1.ipynb",
      "provenance": [],
      "collapsed_sections": [],
      "include_colab_link": true
    }
  },
  "nbformat": 4,
  "nbformat_minor": 0
}