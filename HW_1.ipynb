{
  "cells": [
    {
      "cell_type": "markdown",
      "metadata": {
        "id": "view-in-github",
        "colab_type": "text"
      },
      "source": [
        "<a href=\"https://colab.research.google.com/github/elka97/GB_PyTorch/blob/main/HW_1.ipynb\" target=\"_parent\"><img src=\"https://colab.research.google.com/assets/colab-badge.svg\" alt=\"Open In Colab\"/></a>"
      ]
    },
    {
      "cell_type": "code",
      "execution_count": 28,
      "metadata": {
        "id": "_CNZn_3CofVO"
      },
      "outputs": [],
      "source": [
        "import torch\n",
        "\n",
        "# def print_tens_info(tensor):\n",
        "#     print(\"X :\\n%s\\n\" % tensor)\n",
        "#     print(\"X количество измерений:\\n%s\\n\" % tensor.dim())\n",
        "#     print(\"X размеры : \",  tensor.size())\n",
        "#     print(\"X тип : %s\\n\" % (tensor.type()))    "
      ]
    },
    {
      "cell_type": "code",
      "execution_count": 29,
      "metadata": {
        "id": "QGYTKAxeofVR"
      },
      "outputs": [],
      "source": [
        "# 1. Создайте случайный FloatTensor размера 3x4x5\n",
        "\n",
        "x = torch.randn(3, 4, 5).reshape(3, 4, 5).type(torch.float32)\n",
        "#  or\n",
        "x = torch.randn(3, 4, 5).type(torch.float32)\n",
        "#  or\n",
        "x = torch.randn(3, 4, 5)\n"
      ]
    },
    {
      "cell_type": "code",
      "execution_count": 31,
      "metadata": {
        "id": "7GV_q8DdofVV",
        "colab": {
          "base_uri": "https://localhost:8080/"
        },
        "outputId": "7b8b34d2-ca7b-45ab-95e3-d3439045f85a"
      },
      "outputs": [
        {
          "output_type": "execute_result",
          "data": {
            "text/plain": [
              "torch.Size([3, 4, 5])"
            ]
          },
          "metadata": {},
          "execution_count": 31
        }
      ],
      "source": [
        "# 2. Выведите его форму (shape)\n",
        "\n",
        "x.shape"
      ]
    },
    {
      "cell_type": "code",
      "execution_count": 32,
      "metadata": {
        "id": "f1OTy65FofVX",
        "colab": {
          "base_uri": "https://localhost:8080/"
        },
        "outputId": "5c92dee0-7c6f-42ae-a5c5-916e696e3737"
      },
      "outputs": [
        {
          "output_type": "stream",
          "name": "stdout",
          "text": [
            "x_6x10: torch.Size([6, 10])\n"
          ]
        }
      ],
      "source": [
        "# 3. Приведите его к форме 6х10\n",
        "\n",
        "x_6x10 = x.reshape(6,10)\n",
        "print(f\"x_6x10: {x_6x10.shape}\")\n",
        "# print_tens_info(x_6x10)"
      ]
    },
    {
      "cell_type": "code",
      "execution_count": 35,
      "metadata": {
        "id": "BEVOv9_TofVe",
        "colab": {
          "base_uri": "https://localhost:8080/"
        },
        "outputId": "31ab06e1-a13e-4d16-a443-1d40dd4d6024"
      },
      "outputs": [
        {
          "output_type": "execute_result",
          "data": {
            "text/plain": [
              "(tensor([ 0,  1, -1,  0,  0,  1,  0,  0, -1,  0], dtype=torch.int32),\n",
              " torch.Size([10]))"
            ]
          },
          "metadata": {},
          "execution_count": 35
        }
      ],
      "source": [
        "# 4. Создайте случайный IntTensor размера 10\n",
        "\n",
        "x_int_10 = torch.randn(10).type(torch.int)\n",
        "# print_tens_info(x_int_10)\n",
        "x_int_10, x_int_10.shape"
      ]
    },
    {
      "cell_type": "code",
      "source": [
        "# 5. Умножьте созданный FloatTensor на созданный IntTensor поэлементно\n",
        "\n",
        "x_6x10.mul(x_int_10)"
      ],
      "metadata": {
        "id": "TAX3DUiSa07K",
        "colab": {
          "base_uri": "https://localhost:8080/"
        },
        "outputId": "c277d863-cd87-4ac7-97b4-1c068a719e5c"
      },
      "execution_count": 36,
      "outputs": [
        {
          "output_type": "execute_result",
          "data": {
            "text/plain": [
              "tensor([[ 0.0000,  0.3520, -1.4167,  0.0000, -0.0000,  1.0267,  0.0000,  0.0000,\n",
              "         -2.0838, -0.0000],\n",
              "        [-0.0000, -0.8849,  0.1317, -0.0000, -0.0000, -0.9005,  0.0000, -0.0000,\n",
              "         -0.4349, -0.0000],\n",
              "        [ 0.0000,  0.1666, -0.7021, -0.0000, -0.0000,  0.7216,  0.0000, -0.0000,\n",
              "          0.3098,  0.0000],\n",
              "        [ 0.0000,  1.9006,  0.5862, -0.0000, -0.0000,  0.3770,  0.0000,  0.0000,\n",
              "         -0.5012, -0.0000],\n",
              "        [-0.0000, -1.3180, -0.6654,  0.0000,  0.0000, -1.2642,  0.0000,  0.0000,\n",
              "          1.4649, -0.0000],\n",
              "        [ 0.0000, -0.2176,  1.2476, -0.0000,  0.0000,  0.4493, -0.0000, -0.0000,\n",
              "         -0.1853, -0.0000]])"
            ]
          },
          "metadata": {},
          "execution_count": 36
        }
      ]
    },
    {
      "cell_type": "code",
      "execution_count": 37,
      "metadata": {
        "id": "eUxdWlQZofVi",
        "colab": {
          "base_uri": "https://localhost:8080/"
        },
        "outputId": "ebcb0299-b2aa-42ab-c42d-a7e6a92bd4ec"
      },
      "outputs": [
        {
          "output_type": "execute_result",
          "data": {
            "text/plain": [
              "(array([[17.62826   , -7.3993154 ,  0.75626934,  3.624906  , -1.6040322 ,\n",
              "         -7.5866914 ],\n",
              "        [-7.3993154 , 10.452519  , -0.35705656, -0.4006783 , -1.6172895 ,\n",
              "          3.5245898 ],\n",
              "        [ 0.75626934, -0.35705656,  4.595899  ,  2.3265622 , -4.4807606 ,\n",
              "         -0.56635267],\n",
              "        [ 3.624906  , -0.4006783 ,  2.3265622 , 14.435591  , -6.4904838 ,\n",
              "         -3.8761623 ],\n",
              "        [-1.6040322 , -1.6172895 , -4.4807606 , -6.4904838 , 19.723328  ,\n",
              "         -3.1472256 ],\n",
              "        [-7.5866914 ,  3.5245898 , -0.56635267, -3.8761623 , -3.1472256 ,\n",
              "         11.124373  ]], dtype=float32), (6, 6))"
            ]
          },
          "metadata": {},
          "execution_count": 37
        }
      ],
      "source": [
        "# 6. Умножьте тензор матрично на себя, чтобы результат был размерности 6x6\n",
        "# Подсказка: .dot может не подойти\n",
        "\n",
        "import numpy as np\n",
        "\n",
        "res = np.dot(x_6x10, x_6x10.T)\n",
        "res, res.shape"
      ]
    },
    {
      "cell_type": "code",
      "execution_count": 48,
      "metadata": {
        "id": "u3V6CsNkofVj",
        "colab": {
          "base_uri": "https://localhost:8080/"
        },
        "outputId": "32128d25-9d6c-4500-bd86-30608e69df5a"
      },
      "outputs": [
        {
          "output_type": "stream",
          "name": "stdout",
          "text": [
            "tensor(-148.5000, grad_fn=<SubBackward0>)\n",
            "tensor(3.) tensor(1.) tensor(-75.)\n"
          ]
        }
      ],
      "source": [
        "# 7. Посчитайте производную функции y = x**3 + z - 75t в точке (1, 0.5, 2)\n",
        "\n",
        "x=torch.tensor(1.0, requires_grad=True)\n",
        "z=torch.tensor(0.5, requires_grad=True) # constant ? requires_grad\n",
        "t=torch.tensor(2.0, requires_grad=True)\n",
        "\n",
        "y=torch.pow(x,3)+z-75*t\n",
        "print(y)\n",
        "\n",
        "# # Оценка возможности получения x, y\n",
        "# print(x.requires_grad)\n",
        "# print(z.requires_grad)\n",
        "# print(t.requires_grad)\n",
        "\n",
        "# Ищу деривацию, реализованную обратной функцией\n",
        "y.backward()  \n",
        "\n",
        "# Просмотр производной (градиента) \n",
        "print(x.grad, z.grad, t.grad)"
      ]
    },
    {
      "cell_type": "code",
      "execution_count": 39,
      "metadata": {
        "id": "FzH6QkyxofVm",
        "colab": {
          "base_uri": "https://localhost:8080/"
        },
        "outputId": "fcd19083-9674-491a-8b54-29738bdaf8b0"
      },
      "outputs": [
        {
          "output_type": "execute_result",
          "data": {
            "text/plain": [
              "(tensor([[1., 1., 1., 1., 1., 1.],\n",
              "         [1., 1., 1., 1., 1., 1.],\n",
              "         [1., 1., 1., 1., 1., 1.],\n",
              "         [1., 1., 1., 1., 1., 1.],\n",
              "         [1., 1., 1., 1., 1., 1.]]), torch.Size([5, 6]))"
            ]
          },
          "metadata": {},
          "execution_count": 39
        }
      ],
      "source": [
        "# 8. Создайте единичный тензор размера 5x6\n",
        "ones_5x6=torch.ones(5, 6)\n",
        "\n",
        "ones_5x6, ones_5x6.shape"
      ]
    },
    {
      "cell_type": "code",
      "execution_count": 40,
      "metadata": {
        "id": "z49ttvWPofVo",
        "colab": {
          "base_uri": "https://localhost:8080/"
        },
        "outputId": "4721d8b6-7cf4-4ed7-d582-ce006eebfb4e"
      },
      "outputs": [
        {
          "output_type": "execute_result",
          "data": {
            "text/plain": [
              "(array([[1., 1., 1., 1., 1., 1.],\n",
              "        [1., 1., 1., 1., 1., 1.],\n",
              "        [1., 1., 1., 1., 1., 1.],\n",
              "        [1., 1., 1., 1., 1., 1.],\n",
              "        [1., 1., 1., 1., 1., 1.]], dtype=float32), (5, 6))"
            ]
          },
          "metadata": {},
          "execution_count": 40
        }
      ],
      "source": [
        "# 9. Переведите его в формат numpy\n",
        "\n",
        "np_ones_5x6 = ones_5x6.numpy()\n",
        "\n",
        "np_ones_5x6, np_ones_5x6.shape"
      ]
    }
  ],
  "metadata": {
    "kernelspec": {
      "display_name": "Python 3",
      "language": "python",
      "name": "python3"
    },
    "language_info": {
      "codemirror_mode": {
        "name": "ipython",
        "version": 3
      },
      "file_extension": ".py",
      "mimetype": "text/x-python",
      "name": "python",
      "nbconvert_exporter": "python",
      "pygments_lexer": "ipython3",
      "version": "3.7.4"
    },
    "colab": {
      "name": "HW_1.ipynb",
      "provenance": [],
      "collapsed_sections": [],
      "include_colab_link": true
    }
  },
  "nbformat": 4,
  "nbformat_minor": 0
}